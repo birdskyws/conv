{
 "cells": [
  {
   "cell_type": "code",
   "execution_count": 1,
   "metadata": {},
   "outputs": [],
   "source": [
    "import numpy as np"
   ]
  },
  {
   "cell_type": "code",
   "execution_count": 2,
   "metadata": {},
   "outputs": [],
   "source": [
    "input_array =np.array([[\n",
    "                [0,1,1,2,2],\n",
    "                [0,1,1,0,0],\n",
    "                [1,1,0,1,0],\n",
    "                [1,0,1,1,1],\n",
    "                [0,2,0,1,0]\n",
    "            ],\n",
    "            [\n",
    "                [1,1,1,2,0],\n",
    "                [0,2,1,1,2],\n",
    "                [1,2,0,0,2],\n",
    "                [0,2,1,2,1],\n",
    "                [2,0,1,2,0],\n",
    "            ],\n",
    "            [\n",
    "                [2,0,2,0,2],\n",
    "                [0,0,1,2,1],\n",
    "                [1,0,2,2,1],\n",
    "                [2,0,2,0,0],\n",
    "                [0,0,1,1,2],\n",
    "            ]])"
   ]
  },
  {
   "cell_type": "code",
   "execution_count": 3,
   "metadata": {},
   "outputs": [
    {
     "data": {
      "text/plain": [
       "(3, 5, 5)"
      ]
     },
     "execution_count": 3,
     "metadata": {},
     "output_type": "execute_result"
    }
   ],
   "source": [
    "input_array.shape"
   ]
  },
  {
   "cell_type": "code",
   "execution_count": 4,
   "metadata": {},
   "outputs": [],
   "source": [
    "img_array = []\n",
    "for i in range(5):\n",
    "    for j in range(5):\n",
    "        img_array.append([input_array[0,i,j],input_array[1,i,j],input_array[2,i,j]])\n",
    "img_array = np.reshape(img_array,(5,5,3))                    "
   ]
  },
  {
   "cell_type": "code",
   "execution_count": 5,
   "metadata": {},
   "outputs": [
    {
     "data": {
      "text/plain": [
       "(array([[0, 1, 2],\n",
       "        [1, 1, 0],\n",
       "        [1, 1, 2],\n",
       "        [2, 2, 0],\n",
       "        [2, 0, 2]]), (5, 5, 3))"
      ]
     },
     "execution_count": 5,
     "metadata": {},
     "output_type": "execute_result"
    }
   ],
   "source": [
    "img_array[0],img_array.shape"
   ]
  },
  {
   "cell_type": "code",
   "execution_count": 6,
   "metadata": {},
   "outputs": [
    {
     "name": "stdout",
     "output_type": "stream",
     "text": [
      "[[0. 0. 0. 0. 0. 0. 0.]\n",
      " [0. 0. 1. 1. 2. 2. 0.]\n",
      " [0. 0. 1. 1. 0. 0. 0.]\n",
      " [0. 1. 1. 0. 1. 0. 0.]\n",
      " [0. 1. 0. 1. 1. 1. 0.]\n",
      " [0. 0. 2. 0. 1. 0. 0.]\n",
      " [0. 0. 0. 0. 0. 0. 0.]]\n"
     ]
    }
   ],
   "source": [
    "# 确定padding的范围。\n",
    "padding_array = np.zeros((7,7,3))\n",
    "for i in range(3):\n",
    "    for j in range(5):\n",
    "        for k in range(5):\n",
    "            padding_array[j+1,k+1,i] = img_array[j,k,i]\n",
    "print(padding_array[:,:,0])"
   ]
  },
  {
   "cell_type": "code",
   "execution_count": 7,
   "metadata": {},
   "outputs": [],
   "source": [
    "w_0=np.array([\n",
    "    [[1,-1,0],[1,0,1],[-1,-1,0]],\n",
    "    [[-1,0,1],[0,0,0],[1,-1,1]],\n",
    "    [[-1,1,0],[-1,-1,-1],[0,0,1]]\n",
    "    ])\n",
    "w_1 = np.array([\n",
    "    [[-1,1,-1],[-1,-1,0],[0,0,1]],\n",
    "    [[-1,-1,1],[1,0,0],[0,-1,1]],\n",
    "    [[-1,-1,0],[1,0,-1],[0,0,0]]\n",
    "])"
   ]
  },
  {
   "cell_type": "code",
   "execution_count": 8,
   "metadata": {},
   "outputs": [],
   "source": [
    "b_0 = 1\n",
    "pic = []\n",
    "## 确定 i，j, channel的范围\n",
    "for i in range(3):\n",
    "    for j in range(3):\n",
    "        temp = 0\n",
    "        for channel in range(3):\n",
    "            temp = temp+np.sum(padding_array[i*2:i*2+3,j*2:j*2+3,channel]*w_0[:,:,channel])\n",
    "        pic.append(temp)"
   ]
  },
  {
   "cell_type": "code",
   "execution_count": 9,
   "metadata": {},
   "outputs": [],
   "source": [
    "pic_array = np.array(pic)\n",
    "pic_reshape = np.reshape(pic_array,(3,3))"
   ]
  },
  {
   "cell_type": "code",
   "execution_count": 10,
   "metadata": {},
   "outputs": [],
   "source": [
    "pic_reshape = pic_reshape+b_0"
   ]
  },
  {
   "cell_type": "code",
   "execution_count": 11,
   "metadata": {},
   "outputs": [
    {
     "data": {
      "text/plain": [
       "array([[ 1.,  0., -3.],\n",
       "       [-6.,  1.,  1.],\n",
       "       [ 4., -3.,  1.]])"
      ]
     },
     "execution_count": 11,
     "metadata": {},
     "output_type": "execute_result"
    }
   ],
   "source": [
    "pic_reshape"
   ]
  }
 ],
 "metadata": {
  "kernelspec": {
   "display_name": "Python 3",
   "language": "python",
   "name": "python3"
  },
  "language_info": {
   "codemirror_mode": {
    "name": "ipython",
    "version": 3
   },
   "file_extension": ".py",
   "mimetype": "text/x-python",
   "name": "python",
   "nbconvert_exporter": "python",
   "pygments_lexer": "ipython3",
   "version": "3.6.8"
  }
 },
 "nbformat": 4,
 "nbformat_minor": 2
}
